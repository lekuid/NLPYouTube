{
 "cells": [
  {
   "cell_type": "code",
   "execution_count": 1,
   "id": "1f0e8482-cfe6-41b7-a09a-fb159bfa65f6",
   "metadata": {},
   "outputs": [
    {
     "output_type": "stream",
     "name": "stdout",
     "text": [
      "INFO:tensorflow:Enabling eager execution\n",
      "INFO:tensorflow:Enabling v2 tensorshape\n",
      "INFO:tensorflow:Enabling resource variables\n",
      "INFO:tensorflow:Enabling tensor equality\n",
      "INFO:tensorflow:Enabling control flow v2\n"
     ]
    }
   ],
   "source": [
    "from pytube import YouTube\n",
    "from selenium import webdriver\n",
    "from selenium.webdriver.common.keys import Keys\n",
    "import pandas as pd\n",
    "import numpy as np\n",
    "from IPython.display import clear_output\n",
    "import os, glob, random, time, ffmpy\n",
    "import speech_recognition as sr\n",
    "import wave, contextlib\n",
    "from google.cloud import speech\n",
    "from pydub import AudioSegment\n",
    "from pydub.silence import split_on_silence\n",
    "import tensorflow as tf\n",
    "from tensorflow.keras.preprocessing.text import Tokenizer\n",
    "from tensorflow.keras.preprocessing.sequence import pad_sequences\n",
    "from tensorflow.keras.layers import Embedding, LSTM, Dense, Bidirectional\n",
    "from tensorflow.keras.preprocessing.text import Tokenizer\n",
    "from tensorflow.keras.models import Sequential\n",
    "from tensorflow.keras.optimizers import Adam"
   ]
  },
  {
   "cell_type": "code",
   "execution_count": 11,
   "id": "b0686ef9-f22a-4c3c-86cf-bae0c8e61d34",
   "metadata": {},
   "outputs": [],
   "source": [
    "links = []"
   ]
  },
  {
   "cell_type": "code",
   "execution_count": 12,
   "id": "34101be6-b93b-48ca-a96f-75ced2675668",
   "metadata": {
    "collapsed": true,
    "jupyter": {
     "outputs_hidden": true
    },
    "tags": []
   },
   "outputs": [
    {
     "output_type": "stream",
     "name": "stdout",
     "text": [
      "Total pages scraped: 1\n"
     ]
    }
   ],
   "source": [
    "driver = webdriver.Chrome('G:\\My Drive\\Desktop\\Tools\\chromedriver89.exe');\n",
    "driver.get('https://www.youtube.com/c/TED/videos'); time.sleep(3);\n",
    "#driver.get('https://www.youtube.com/c/TED/videos?view=0&sort=da&flow=grid'); time.sleep(3)\n",
    "\n",
    "page = []\n",
    "\n",
    "while len(page)<1:\n",
    "    driver.find_element_by_css_selector(\"div#search-input > input#search\").send_keys(Keys.PAGE_DOWN); #sending pagedown\n",
    "    page.append(driver.find_elements_by_xpath(\"/html//div[@id='details']/div[@id='meta']//a[@href]\")); #video links\n",
    "    clear_output()\n",
    "    print(f'Total pages scraped: {len(page)}');\n",
    "for x in page[-1]:\n",
    "    if x.get_attribute('href') not in links:\n",
    "        links.append(x.get_attribute('href')) #populating the empty list on each pass\n",
    "    else:\n",
    "        pass\n",
    "driver.close()\n",
    "driver.quit()"
   ]
  },
  {
   "cell_type": "code",
   "execution_count": 13,
   "id": "8a7ce00c-ebf8-4836-ba6d-e5b69accab5e",
   "metadata": {},
   "outputs": [
    {
     "output_type": "execute_result",
     "data": {
      "text/plain": [
       "                                             0\n",
       "0  https://www.youtube.com/watch?v=GfF2e0vyGM4\n",
       "1  https://www.youtube.com/watch?v=Irx0tC92fdE\n",
       "2  https://www.youtube.com/watch?v=Qm02X0aE8uU\n",
       "3  https://www.youtube.com/watch?v=Axh07mJ9Ag4\n",
       "4  https://www.youtube.com/watch?v=Mkelhs_OVMc"
      ],
      "text/html": "<div>\n<style scoped>\n    .dataframe tbody tr th:only-of-type {\n        vertical-align: middle;\n    }\n\n    .dataframe tbody tr th {\n        vertical-align: top;\n    }\n\n    .dataframe thead th {\n        text-align: right;\n    }\n</style>\n<table border=\"1\" class=\"dataframe\">\n  <thead>\n    <tr style=\"text-align: right;\">\n      <th></th>\n      <th>0</th>\n    </tr>\n  </thead>\n  <tbody>\n    <tr>\n      <th>0</th>\n      <td>https://www.youtube.com/watch?v=GfF2e0vyGM4</td>\n    </tr>\n    <tr>\n      <th>1</th>\n      <td>https://www.youtube.com/watch?v=Irx0tC92fdE</td>\n    </tr>\n    <tr>\n      <th>2</th>\n      <td>https://www.youtube.com/watch?v=Qm02X0aE8uU</td>\n    </tr>\n    <tr>\n      <th>3</th>\n      <td>https://www.youtube.com/watch?v=Axh07mJ9Ag4</td>\n    </tr>\n    <tr>\n      <th>4</th>\n      <td>https://www.youtube.com/watch?v=Mkelhs_OVMc</td>\n    </tr>\n  </tbody>\n</table>\n</div>"
     },
     "metadata": {},
     "execution_count": 13
    }
   ],
   "source": [
    "pd.DataFrame(links).to_csv(f'TEDx_links.csv', index = False) #writing out the file\n",
    "data = pd.read_csv(f'TEDx_links.csv') \n",
    "data.head()"
   ]
  },
  {
   "cell_type": "code",
   "execution_count": 14,
   "id": "08dcf18e-fdb4-496e-bf50-3d59cc9204a2",
   "metadata": {},
   "outputs": [
    {
     "output_type": "execute_result",
     "data": {
      "text/plain": [
       "'https://www.youtube.com/watch?v=GfF2e0vyGM4'"
      ]
     },
     "metadata": {},
     "execution_count": 14
    }
   ],
   "source": [
    "str(data.loc[0]).split(' ')[4].split('\\n')[0] \n",
    "#This feels too long just to query the value at index as string instead of object."
   ]
  },
  {
   "cell_type": "code",
   "execution_count": 15,
   "id": "e8f7d7f4-4f8a-44ab-8923-26be10a73ac4",
   "metadata": {},
   "outputs": [
    {
     "output_type": "stream",
     "name": "stdout",
     "text": [
      "Total links: 30\n"
     ]
    }
   ],
   "source": [
    "print(f'Total links: {len(data)}')"
   ]
  },
  {
   "cell_type": "code",
   "execution_count": 16,
   "metadata": {},
   "outputs": [
    {
     "output_type": "stream",
     "name": "stdout",
     "text": [
      "Downloaded 30 videos.\n",
      "All videos converted.\n"
     ]
    }
   ],
   "source": [
    "#Remove old files to make a clean batch\n",
    "for file in [x for x in os.listdir('rawFiles')]:\n",
    "    os.remove(f'rawFiles\\\\{file}')\n",
    "\n",
    "#Download videos from YouTube using scraped link list and pytube\n",
    "for x in range(len(links)):\n",
    "    yt = YouTube(str(data.loc[x]).split(' ')[4].split('\\n')[0])\n",
    "    yt.streams.filter(only_audio=True)[0].download('rawFiles')\n",
    "    clear_output()\n",
    "    print(f'Downloaded {x+1} videos.')\n",
    "\n",
    "#Convert .mp4 to .wav and encoding filename for processing, ffmpy wrapper for ffmpeg\n",
    "for idx, file in enumerate([x for x in os.listdir('rawFiles') if x.split('.')[-1]=='mp4']):\n",
    "    ff = ffmpy.FFmpeg(executable=\"drivers\\\\ffmpeg.exe\",\n",
    "                      inputs = {f\"rawFiles\\\\{file}\" : None},\n",
    "                      outputs = {f\"rawFiles\\\\{idx}.wav\" : f'-acodec pcm_s16le -ac 1 -ar 16000'})\n",
    "    ff.run()\n",
    "    os.remove(f'rawFiles\\\\{file}')\n",
    "print('All videos converted.')"
   ]
  },
  {
   "cell_type": "code",
   "execution_count": 17,
   "id": "73579261-0186-4e00-9432-422026c261e5",
   "metadata": {
    "collapsed": true,
    "jupyter": {
     "outputs_hidden": true
    },
    "tags": []
   },
   "outputs": [],
   "source": [
    "#Method1: Splitting by a fixed time length.\n",
    "for file in [x for x in os.listdir('splitFiles')]:\n",
    "    os.remove(f'splitFiles\\\\{file}')\n",
    "\n",
    "cut_len = 10 #seconds\n",
    "\n",
    "for idx, file in enumerate([x for x in os.listdir('rawFiles')]):\n",
    "    with contextlib.closing(wave.open(f'rawFiles\\\\{file}','r')) as f: #opening the file to read length\n",
    "        duration = round(f.getnframes() / float(f.getframerate())) #total frames / the framerate\n",
    "    x=0\n",
    "    while x < (duration/cut_len): #doing it this way to have x as 1 or could have simply added cut_len to x at each iter\n",
    "        ff = ffmpy.FFmpeg(executable=\"drivers\\\\ffmpeg.exe\",\\\n",
    "                          inputs = {f\"rawFiles\\\\{file}\" : None},\\\n",
    "                          outputs = {f\"splitFiles\\\\{idx}_{x}.wav\" : f'-ss {x*cut_len} -t {cut_len}'}) # -ss(starting at) -t(seconds to keep) that 12 is to crop out TEDx intro sound :P\n",
    "        ff.run()\n",
    "        x+=1"
   ]
  },
  {
   "cell_type": "code",
   "execution_count": 51,
   "metadata": {},
   "outputs": [],
   "source": [
    "#Method2: Splitting by silence in audio.\n",
    "\n",
    "#for file in [x for x in os.listdir('rawFiles') if x.split('.')[-1]=='wav']:\n",
    "#    song = AudioSegment.from_wav(f\"rawFiles\\\\{file}\")\n",
    "#    chunks = split_on_silence(song, min_silence_len = 800, silence_thresh = -50)\n",
    "#    for idx, chunk in enumerate(chunks):\n",
    "#        chunk.export(f\"splitFiles\\\\{file}_{idx}.wav\", format='wav')|"
   ]
  },
  {
   "cell_type": "code",
   "execution_count": 18,
   "id": "19b7f7ed-c077-45f1-ac98-c3f4e5495688",
   "metadata": {
    "collapsed": true,
    "jupyter": {
     "outputs_hidden": true
    },
    "tags": []
   },
   "outputs": [],
   "source": [
    "files = [x for x in os.listdir('splitFiles')]\n",
    "\n",
    "transcript = []\n",
    "\n",
    "r = sr.Recognizer()\n",
    "\n",
    "for file in files:\n",
    "    temp=[]\n",
    "    audio = sr.AudioFile(f'splitFiles\\\\{file}')\n",
    "    with audio as source:\n",
    "        audio_file = r.record(source)\n",
    "        try:\n",
    "            temp = (r.recognize_google(audio_file))\n",
    "            transcript.append(temp)\n",
    "            pd.DataFrame(transcript).to_csv(f'TEDx_Lines.csv', index = False)\n",
    "        except:\n",
    "            pass\n",
    "print(len(transcript))\n",
    "print(transcript[0:50])"
   ]
  },
  {
   "cell_type": "code",
   "execution_count": 3,
   "id": "f16ab138-03dd-42f2-ae3c-04f327efd16d",
   "metadata": {},
   "outputs": [
    {
     "output_type": "execute_result",
     "data": {
      "text/plain": [
       "\"I know today's latest Shikar to signatures and find the documents and prescription to proceed with everything was over and she won it was actually one of the happiest days of your life\""
      ]
     },
     "metadata": {},
     "execution_count": 3
    }
   ],
   "source": [
    "corpus = pd.read_csv(\"TEDx_lines.csv\")['0'].tolist()\n",
    "corpus[random.randint(0, len(transcript))]"
   ]
  },
  {
   "cell_type": "code",
   "execution_count": 4,
   "id": "4717e2ec-b1bf-4bc7-99dd-545d99edc40b",
   "metadata": {
    "tags": [
     "outputPrepend"
    ]
   },
   "outputs": [
    {
     "output_type": "stream",
     "name": "stdout",
     "text": [
      "nces': 235, 'today': 236, 'realise': 237, 'create': 238, 'lot': 239, 'understand': 240, 'behind': 241, 'ones': 242, 'themselves': 243, 'happens': 244, 'face': 245, 'stage': 246, '4': 247, '10': 248, 'came': 249, 'write': 250, 'ever': 251, 'china': 252, 'second': 253, 'father': 254, 'well': 255, 'skin': 256, 'status': 257, 'business': 258, 'month': 259, 'view': 260, 'treatments': 261, 'girl': 262, 'out': 263, '18': 264, 'science': 265, 'available': 266, 'immediate': 267, 'call': 268, 'months': 269, 'message': 270, 'where': 271, 'made': 272, 'main': 273, 'society': 274, 'natural': 275, 'thing': 276, 'access': 277, 'day': 278, 'sounds': 279, 'understanding': 280, 'done': 281, 'fire': 282, 'yeah': 283, 'days': 284, 'respect': 285, 'two': 286, 'anywhere': 287, 'hours': 288, 'doing': 289, 'before': 290, 'means': 291, 'friends': 292, 'temperature': 293, 'choose': 294, 'willing': 295, 'each': 296, 'things': 297, 'shoes': 298, 'video': 299, 'strategies': 300, 'place': 301, 'single': 302, 'possible': 303, 'funny': 304, '60': 305, 'market': 306, 'page': 307, 'fact': 308, 'happen': 309, 'words': 310, 'makes': 311, 'professional': 312, 'de': 313, 'man': 314, 'sitting': 315, 'feedback': 316, 'send': 317, 'read': 318, 'long': 319, 'framework': 320, 'nothing': 321, 'angry': 322, 'hi': 323, 'own': 324, 'set': 325, 'easier': 326, 'enjoy': 327, 'program': 328, 'along': 329, 'name': 330, 'ask': 331, 'questions': 332, 'smile': 333, 'reaching': 334, 'places': 335, 'racial': 336, 'possibilities': 337, 'ke': 338, 'making': 339, 'everywhere': 340, 'moment': 341, 'side': 342, 'between': 343, 'weird': 344, 'hiring': 345, 'everyone': 346, 'abhi': 347, 'phone': 348, 'aa': 349, 'fun': 350, 'vi': 351, 'mine': 352, 'per': 353, 'practice': 354, 'himself': 355, 'transforming': 356, 'unique': 357, 'mother': 358, 'information': 359, 'back': 360, 'ice': 361, 'review': 362, 'beginning': 363, 'born': 364, 'growing': 365, 'married': 366, 'states': 367, 'furious': 368, 'could': 369, 'line': 370, 'sheet': 371, 'sister': 372, 'school': 373, 'location': 374, 'physical': 375, 'washing': 376, 'give': 377, 'told': 378, 'rashi': 379, 'washington': 380, 'legal': 381, 'decide': 382, 'options': 383, 'particular': 384, 'asked': 385, 'kids': 386, 'proceed': 387, 'sign': 388, 'six': 389, 'news': 390, 'answer': 391, '12': 392, 'preparing': 393, 'fighting': 394, 'die': 395, 'areas': 396, 'comfort': 397, 'decided': 398, 'diagnosis': 399, 'though': 400, 'creative': 401, 'morning': 402, 'health': 403, 'shower': 404, 'mums': 405, 'amazing': 406, 'spent': 407, 'update': 408, 'easy': 409, 'world': 410, 'challenge': 411, 'happening': 412, 'try': 413, 'wishes': 414, 'whole': 415, 'body': 416, 'bye': 417, 'hand': 418, 'latest': 419, 'expected': 420, 'interested': 421, \"wasn't\": 422, 'speak': 423, 'responsibility': 424, 'guide': 425, 'eating': 426, 'picture': 427, 'medical': 428, 'curious': 429, 'type': 430, '000': 431, 'nearest': 432, 'yet': 433, 'visited': 434, 'amount': 435, 'favourite': 436, 'thought': 437, 'happy': 438, 'thinking': 439, 'quarter': 440, 'medication': 441, 'imagine': 442, 'actual': 443, 'families': 444, 'healthcare': 445, 'great': 446, 'curiosity': 447, 'problem': 448, 'must': 449, 'old': 450, '28': 451, 'tell': 452, 'challenging': 453, 'deep': 454, 'ideological': 455, 'divide': 456, 'cause': 457, \"we're\": 458, 'prominence': 459, 'due': 460, '100': 461, 'being': 462, 'wrong': 463, 'does': 464, 'grow': 465, \"he's\": 466, 'longer': 467, 'thanksgiving': 468, 'shows': 469, 'strong': 470, 'plant': 471, 'influence': 472, 'cannot': 473, 'promise': 474, 'play': 475, 'interesting': 476, 'close': 477, 'divided': 478, 'spend': 479, 'different': 480, 'might': 481, 'else': 482, 'probably': 483, 'talking': 484, 'tip': 485, 'hundred': 486, 'top': 487, 'skill': 488, 'actions': 489, 'paid': 490, 'technology': 491, 'job': 492, 'study': 493, 'writing': 494, 'opening': 495, 'store': 496, 'money': 497, 'promoted': 498, 'independent': 499, 'bookstore': 500, 'book': 501, 'security': 502, 'marcus': 503, 'machines': 504, 'humans': 505, 'corridor': 506, 'conditions': 507, 'diversity': 508, 'sustaining': 509, 'evidence': 510, 'meaningful': 511, 'applicant': 512, 'parable': 513, 'proxies': 514, 'math': 515, 'pressing': 516, 'ageism': 517, 's': 518, 'h': 519, 'xenophobia': 520, 'important': 521, 'buyers': 522, 'khao': 523, 'francis': 524, 'sales': 525, 'sits': 526, 'gets': 527, 'tax': 528, 'bihari': 529, 'cover': 530, 'spelling': 531, 'speaking': 532, 'telling': 533, 'please': 534, 'voices': 535, 'liked': 536, 'surprise': 537, 'unscheduled': 538, 'executive': 539, 'shall': 540, 'agreeable': 541, 'advised': 542, 'email': 543, 'inspired': 544, 'aback': 545, 'pharmacy': 546, 'proof': 547, 'payable': 548, 'success': 549, 'whiteness': 550, 'collins': 551, 'reserve': 552, 'survive': 553, 'outside': 554, 'usual': 555, 'buy': 556, 'battle': 557, 'situated': 558, 'sirf': 559, 'harish': 560, 'wear': 561, 'mistake': 562, 'congress': 563, 'tried': 564, 'city': 565, 'pro': 566, 'vs': 567, 'ipad': 568, 'un': 569, 'consistent': 570, 'specially': 571, 'treated': 572, 'perfectly': 573, 'restart': 574, 'victim': 575, 'panda': 576, 'sanskrit': 577, 'chat': 578, 'achcha': 579, 'signify': 580, 'psychologically': 581, 'manipulate': 582, 'questioning': 583, 'then': 584, 'batman': 585, 'nice': 586, 'meet': 587, 'among': 588, 'feature': 589, 'suction': 590, 'harsh': 591, 'simile': 592, 'venus': 593, 'dominant': 594, 'casting': 595, 'shelf': 596, 'hidden': 597, 'mystery': 598, 'curly': 599, 'hair': 600, '20': 601, 'contrasted': 602, 'police': 603, 'brutality': 604, 'supervisor': 605, 'mis': 606, 'pronounce': 607, 'answered': 608, 'waste': 609, 'histories': 610, 'show': 611, 'aspire': 612, 'tipping': 613, 'bigotry': 614, 'finding': 615, 'finances': 616, 'becoming': 617, 'harder': 618, 'active': 619, 'imagination': 620, 'continuous': 621, 'inclusion': 622, 'frame': 623, 'patan': 624, '64': 625, 'hui': 626, 'breeze': 627, 'away': 628, 'vedas': 629, 'hippo': 630, 'offensive': 631, 'disable': 632, 'woman': 633, 'pregnant': 634, 'position': 635, 'protection': 636, 'weakness': 637, 'privileges': 638, 'udit': 639, 'narayan': 640, 'medicines': 641, 'opportunity': 642, 'movement': 643, 'gap': 644, 'usa': 645, 'reading': 646, \"isn't\": 647, 'effectively': 648, 'cultural': 649, 'across': 650, 'competency': 651, 'performance': 652, 'management': 653, 'taarak': 654, 'senses': 655, 'undisturbed': 656, 'gender': 657, 'beta': 658, 'studying': 659, 'responses': 660, 'manage': 661, 'conflict': 662, 'tiny': 663, 'simple': 664, 'expensive': 665, 'white': 666, 'meeting': 667, 'hope': 668, 'activity': 669, 'concern': 670, 'reduce': 671, 'printer': 672, 'saina': 673, 'procedure': 674, 'personalities': 675, 'motivations': 676, 'wire': 677, 'moments': 678, 'turning': 679, 'ordinary': 680, 'memorable': 681, 'deaf': 682, 'faced': 683, 'diagnosed': 684, 'previous': 685, 'bone': 686, 'pain': 687, 'itself': 688, 'worst': 689, '1948': 690, 'twin': 691, 'confusion': 692, 'positive': 693, 'normal': 694, 'communist': 695, '1960': 696, 'daughter': 697, 'law': 698, 'son': 699, 'anything': 700, 'identified': 701, 'felt': 702, 'hong': 703, 'kong': 704, '22': 705, 'amateur': 706, 'united': 707, 'continued': 708, 'processed': 709, 'technofour': 710, 'turn': 711, 'naked': 712, 'straight': 713, 'drawing': 714, 'classes': 715, 'shifa': 716, 'prime': 717, 'teenager': 718, 'forward': 719, 'boyfriend': 720, 'replacing': 721, '2004': 722, 'k4fe': 723, 'tower': 724, 'radiation': 725, 'variation': 726, 'brain': 727, 'forget': 728, 'mental': 729, 'fayde': 730, 'growth': 731, 'seeing': 732, 'group': 733, 'teenagers': 734, \"you're\": 735, 'suicide': 736, 'prepare': 737, 'brace': 738, 'yourself': 739, 'may': 740, 'carried': 741, 'hospital': 742, 'tar': 743, 'naam': 744, 'attitude': 745, 'nose': 746, 'surgery': 747, 'tractor': 748, 'bad': 749, 'features': 750, 'ap': 751, 'vegetable': 752, 'x': 753, 'state': 754, 'since': 755, '2009': 756, 'legislation': 757, 'empowers': 758, 'move': 759, 'confirmed': 760, 'near': 761, 'ats': 762, 'individuals': 763, 'terminal': 764, 'illness': 765, '550': 766, 'option': 767, 'devastated': 768, 'ceremony': 769, 'casual': 770, 'style': 771, 'worsening': 772, 'husband': 773, 'confirm': 774, 'sonic': 775, 'steps': 776, 'evident': 777, 'needed': 778, 'signatories': 779, 'holiday': 780, 'shocked': 781, 'surprised': 782, 'excited': 783, 'kit': 784, 'another': 785, 'mime': 786, 'trained': 787, 'open': 788, 'source': 789, 'expertise': 790, 'solutions': 791, \"mom's\": 792, 'arrest': 793, 'trust': 794, 'institute': 795, 'california': 796, 'flowers': 797, 'recently': 798, 'overcome': 799, 'disappointment': 800, 'percentage': 801, 'founders': 802, 'hospice': 803, 'palliative': 804, 'three': 805, 'focus': 806, 'support': 807, 'spiritually': 808, 'peace': 809, 'testament': 810, 'survival': 811, 'ranging': 812, 'pragmatics': 813, 'afford': 814, 'multiple': 815, 'created': 816, 'initial': 817, 'walker': 818, 'activation': 819, 'exercises': 820, 'songs': 821, 'walk': 822, 'kitchen': 823, 'island': 824, 'watched': 825, 'youtube': 826, 'videos': 827, 'floor': 828, 'weekends': 829, 'semesters': 830, 'handicap': 831, 'deluge': 832, 'hutt': 833, 'river': 834, 'spa': 835, 'resorts': 836, 'hear': 837, 'lingerie': 838, 'sets': 839, 'gave': 840, 'lasting': 841, 'bed': 842, 'classic': 843, '180': 844, 'movies': 845, 'sometime': 846, 'word': 847, 'images': 848, 'rainy': 849, 'ca': 850, 'colleges': 851, 'fastest': 852, 'preferred': 853, 'depth': 854, 'field': 855, 'disappointed': 856, 'chest': 857, 'press': 858, 'wheelchair': 859, 'coronavirus': 860, 'aesthetics': 861, 'treating': 862, 'communication': 863, 'combination': 864, 'creativity': 865, 'sea': 866, 'monsters': 867, 'strange': 868, 'offering': 869, 'reasons': 870, 'hospitals': 871, 'ways': 872, 'allowed': 873, 'graft': 874, 'shared': 875, 'language': 876, 'common': 877, 'goal': 878, 'crashing': 879, 'm': 880, 'notice': 881, 'texture': 882, 'flash': 883, 'focused': 884, 'executing': 885, 'accepted': 886, 'bones': 887, 'under': 888, 'burning': 889, 'service': 890, 'marry': 891, \"i'm\": 892, 'proud': 893, \"you'd\": 894, 'mining': 895, 'visit': 896, 'uncle': 897, 'started': 898, 'smoke': 899, 'hostel': 900, 'fell': 901, 'pray': 902, 'join': 903, 'pushed': 904, '348': 905, 'heritage': 906, 'backing': 907, 'fast': 908, \"today's\": 909, 'shikar': 910, 'signatures': 911, 'documents': 912, 'prescription': 913, 'won': 914, 'happiest': 915, 'wrongly': 916, 'ecologist': 917, 'mothers': 918, 'syllabus': 919, 'author': 920, 'caption': 921, 'insta': 922, 'adequate': 923, 'inform': 924, 'burn': 925, 'down': 926, 'everytime': 927, 'solving': 928, 'agree': 929, 'foxes': 930, 'hard': 931, 'watch': 932, 'causative': 933, '400': 934, '2nd': 935, 'faster': 936, 'cost': 937, 'insurance': 938, 'policies': 939, 'regulations': 940, 'intended': 941, 'protect': 942, 'supporters': 943, 'assigned': 944, 'analytical': 945, 'function': 946, 'f': 947, 'price': 948, 'eye': 949, 'popping': 950, 'pressure': 951, 'crazy': 952, 'kidding': 953, 'ak': 954, '401': 955, 'forehead': 956, 'request': 957, 'feast': 958, 'thalatta': 959, 'vishva': 960, 'cake': 961, 'sparkling': 962, 'wine': 963, 'playlist': 964, 'neck': 965, 'bee': 966, 'gees': 967, 'dusty': 968, 'springfield': 969, 'plastic': 970, 'system': 971, 'hell': 972, 'operations': 973, 'kept': 974, 'bright': 975, 'smiling': 976, 'descriptive': 977, 'thumbs': 978, 'stiff': 979, 'grave': 980, 'medications': 981, 'sorry': 982, 'sequester': 983, 'international': 984, 'third': 985, 'final': 986, 'assisted': 987, 'handed': 988, 'declared': 989, 'intention': 990, 'sleep': 991, 'internal': 992, 'square': 993, 'alpha': 994, 'holder': 995, 'copper': 996, 'took': 997, 'cup': 998, 'hands': 999, 'goes': 1000, '45': 1001, 'minutes': 1002, 'weather': 1003, 'full': 1004, 'uncertainty': 1005, 'often': 1006, 'awaiting': 1007, 'caring': 1008, 'involves': 1009, 'mss2': 1010, 'chinese': 1011, 'nurse': 1012, 'managerial': 1013, 'behaviour': 1014, 'inner': 1015, 'ave': 1016, 'stay': 1017, '30': 1018, 'considering': 1019, 'known': 1020, 'screen': 1021, 'causes': 1022, 'practiced': 1023, 'rituals': 1024, 'expressions': 1025, 'based': 1026, 'situations': 1027, 'environments': 1028, 'round': 1029, 'inventory': 1030, 'assign': 1031, 'emotion': 1032, 'statue': 1033, 'story': 1034, 'strangers': 1035, 'helps': 1036, 'perhaps': 1037, 'framer': 1038, 'branded': 1039, 'scary': 1040, 'national': 1041, 'honest': 1042, 'brave': 1043, 'fighter': 1044, 'became': 1045, 'either': 1046, '69': 1047, 'belongs': 1048, 'patients': 1049, 'providers': 1050, 'policymakers': 1051, 'members': 1052, 'creating': 1053, 'passionately': 1054, 'crore': 1055, 'daddy': 1056, 'aasan': 1057, 'higher': 1058, 'sudeep': 1059, 'term': 1060, 'coined': 1061, 'cancelled': 1062, 'foscam': 1063, 'integrate': 1064, 'existed': 1065, 'route': 1066, 'cells': 1067, 'disagree': 1068, 'persona': 1069, 'non': 1070, 'grata': 1071, 'revealed': 1072, 'firework': 1073, 'anymore': 1074, 'public': 1075, 'hurt': 1076, 'circle': 1077, 'akola': 1078, 'error': 1079, 'mutually': 1080, 'beneficial': 1081, 'lives': 1082, 'suggest': 1083, 'premises': 1084, 'exist': 1085, 'intelligent': 1086, 'possibility': 1087, 'ability': 1088, 'develop': 1089, 'sleeping': 1090, 'thanks': 1091, 'period': 1092, 'core': 1093, 'key': 1094, 'elements': 1095, 'drastically': 1096, 'barrier': 1097, '38': 1098, 'able': 1099, 'extend': 1100, 'grace': 1101, 'helping': 1102, 'tool': 1103, 'definition': 1104, 'fascinating': 1105, 'iq': 1106, 'says': 1107, 'wider': 1108, 'safa': 1109, 'big': 1110, 'potentially': 1111, \"let's\": 1112, 'clear': 1113, 'deny': 1114, 'hour': 1115, 'suggesting': 1116, 'maybe': 1117, \"that's\": 1118, 'situation': 1119, 'grandpa': 1120, 'console': 1121, 'proximity': 1122, 'teeth': 1123, 'action': 1124, 'affection': 1125, 'grandfather': 1126, 'substitute': 1127, 'uses': 1128, 'exchange': 1129, 'eid': 1130, 'sunlight': 1131, 'number': 1132, 'fertilizer': 1133, \"can't\": 1134, 'idea': 1135, 'suffering': 1136, 'choosing': 1137, 'totality': 1138, 'aspect': 1139, 'purple': 1140, 'leaves': 1141, 'valuable': 1142, 'individual': 1143, 'duo': 1144, 'demonstrated': 1145, 'beautifully': 1146, 'late': 1147, 'paragon': 1148, 'spark': 1149, 'antonyms': 1150, 'kalaiya': 1151, 're': 1152, 'completely': 1153, 'terms': 1154, 'belief': 1155, 'fat': 1156, 'antonin': 1157, 'scalia': 1158, 'alike': 1159, 'shift': 1160, 'whatsoever': 1161, \"year's\": 1162, 'eve': 1163, 'vacation': 1164, 'chose': 1165, 'lived': 1166, 'tied': 1167, 'mp3': 1168, 'walking': 1169, '77': 1170, 'tissues': 1171, 'context': 1172, 'ok': 1173, 'affair': 1174, 'question': 1175, 'picked': 1176, 'vande': 1177, 'wholesome': 1178, 'bet': 1179, 'yes': 1180, 'u': 1181, 'cool': 1182, 'namita': 1183, 'kaul': 1184, 'later': 1185, 'thymus': 1186, 'pink': 1187, 'standards': 1188, 'content': 1189, 'encouraging': 1190, 'fashion': 1191, 'cancelling': 1192, 'consider': 1193, 'embassy': 1194, 'soti': 1195, 'wide': 1196, 'scared': 1197, 'barsa': 1198, 'anyone': 1199, 'sum': 1200, 'grown': 1201, 'painted': 1202, 'community': 1203, 'plane': 1204, 'fields': 1205, 'aware': 1206, 'highest': 1207, 'head': 1208, 'acting': 1209, 'version': 1210, 'origin': 1211, 'via': 1212, '2019': 1213, 'season': 1214, 'standard': 1215, 'loved': 1216, 'intricate': 1217, 'precision': 1218, 'prefixes': 1219, 'successful': 1220, 'companies': 1221, 'given': 1222, 'autolink': 1223, 'licence': 1224, 'championships': 1225, 'vivo': 1226, 'account': 1227, 'messages': 1228, 'integration': 1229, 'pawn': 1230, 'stars': 1231, 'comparative': 1232, '27': 1233, 'million': 1234, 'dollars': 1235, 'online': 1236, 'october': 1237, '9': 1238, 'game': 1239, 'fortnite': 1240, 'percent': 1241, 'fifa': 1242, 'ongoing': 1243, 'paradise': 1244, 'software': 1245, 'twitter': 1246, 'categories': 1247, 'education': 1248, 'protecting': 1249, 'reactions': 1250, 'usually': 1251, \"doesn't\": 1252, 'minute': 1253, 'atms': 1254, '600mm': 1255, '201': 1256, 'spring': 1257, '2006': 1258, 'level': 1259, 'macro': 1260, 'discovering': 1261, 'larger': 1262, 'tactical': 1263, 'sure': 1264, 'planet': 1265, 'accent': 1266, 'constantly': 1267, 'evolving': 1268, '49': 1269, 'widely': 1270, 'supported': 1271, 'rainbow': 1272, 'siege': 1273, 'mad': 1274, 'led': 1275, 'pirate': 1276, 'attack': 1277, '92': 1278, 'mph': 1279, 'win': 1280, 'team': 1281, 'temporary': 1282, 'advantage': 1283, 'english': 1284, 'meaning': 1285, 'inn': 1286, 'convention': 1287, 'centre': 1288, 'lines': 1289, 'equity': 1290, 'python': 1291, 'snake': 1292, 'nda': 1293, 'real': 1294, 'issues': 1295, 'drive': 1296, 'increase': 1297, 'marginalized': 1298, 'groups': 1299, '7': 1300, 'tera': 1301, 'interest': 1302, 'actor': 1303, 'telligence': 1304, 'perseverance': 1305, 'environment': 1306, 'soccer': 1307, 'scenes': 1308, 'travelling': 1309, 'excitement': 1310, 'metformin': 1311, 'replaced': 1312, 'finance': 1313, 'product': 1314, 'feed': 1315, 'sim': 1316, 'data': 1317, 'database': 1318, 'input': 1319, 'required': 1320, 'four': 1321, 'surprises': 1322, 'shockingly': 1323, 'effective': 1324, 'already': 1325, 'starting': 1326, 'reporting': 1327, '300': 1328, 'journalist': 1329, 'combined': 1330, 'researching': 1331, 'nomination': 1332, 'happened': 1333, 'industries': 1334, 'advanced': 1335, 'learning': 1336, 'algorithms': 1337, 'robot': 1338, 'robards': 1339, 'trend': 1340, 'towards': 1341, 'accurate': 1342, 'programming': 1343, 'tutorial': 1344, 'disturbing': 1345, 'saying': 1346, 'research': 1347, 'within': 1348, 'exactly': 1349, 'nationalism': 1350, 'technologies': 1351, 'hold': 1352, 'hall': 1353, 'tere': 1354, 'engineering': 1355, 'skilled': 1356, 'arrests': 1357, 'riders': 1358, 'philosopher': 1359, 'observing': 1360, 'kafi': 1361, 'regarded': 1362, 'oxyrich': 1363, 'printed': 1364, 'humanly': 1365, 'formulaic': 1366, 'singh': 1367, 'moral': 1368, 'personality': 1369, 'series': 1370, 'profile': 1371, 'facts': 1372, 'royce': 1373, 'google': 1374, 'using': 1375, 'checkup': 1376, 'rest': 1377, 'taxes': 1378, 'tradition': 1379, 'former': 1380, 'stand': 1381, 'comedian': 1382, 'brings': 1383, 'comedic': 1384, 'sensitively': 1385, 'aishwarya': 1386, 'itemize': 1387, 'deductions': 1388, 'arrested': 1389, 'comedy': 1390, 'personal': 1391, 'automation': 1392, 'according': 1393, 'nagpur': 1394, 'university': 1395, '99': 1396, 'eliminated': 1397, 'free': 1398, 'contact': 1399, 'operation': 1400, 'internet': 1401, 'ago': 1402, '1967': 1403, 'undergoing': 1404, 'kota': 1405, 'factory': 1406, 'ruba': 1407, 'december': 1408, 'history': 1409, 'nuanced': 1410, 'ethanol': 1411, 'sixth': 1412, 'sense': 1413, 'kill': 1414, 'hollywood': 1415, 'listen': 1416, 'break': 1417, 'piece': 1418, 'metal': 1419, 'figure': 1420, 'despite': 1421, 'passes': 1422, 'getting': 1423, 'named': 1424, 'chief': 1425, 'recognition': 1426, 'teaching': 1427, 'tourist': 1428, 'skills': 1429, 'matter': 1430, 'small': 1431, 'hometown': 1432, 'oldest': 1433, 'pattern': 1434, 'america': 1435, 'introducing': 1436, 'interests': 1437, 'holi': 1438, 'morrison': 1439, 'dear': 1440, 'gone': 1441, 'decades': 1442, 'toward': 1443, 'lowest': 1444, 'prices': 1445, 'slickest': 1446, 'e': 1447, 'commerce': 1448, 'seller': 1449, 'optimised': 1450, 'supply': 1451, 'chain': 1452, 'gathering': 1453, 'recent': 1454, 'guard': 1455, 'services': 1456, 'owners': 1457, 'stall': 1458, 'equal': 1459, 'raising': 1460, 'killed': 1461, 'streets': 1462, 'protest': 1463, 'prince': 1464, '110': 1465, '210': 1466, '375': 1467, 'raised': 1468, '230': 1469, 'look': 1470, 'romance': 1471, 'literature': 1472, 'basis': 1473, 'champs': 1474, 'saved': 1475, 'invaded': 1476, 'customers': 1477, 'hundreds': 1478, 'sleek': 1479, 'efficient': 1480, 'productivity': 1481, 'humanscale': 1482, 'chair': 1483, 'whatever': 1484, 'convert': 1485, 'bedside': 1486, 'friend': 1487, 'provider': 1488, 'trial': 1489, 'sankranthi': 1490, 'products': 1491, 'problems': 1492, 'tutor': 1493, 'taking': 1494, 'papaya': 1495, 'living': 1496, 'replace': 1497, 'birthday': 1498}\n"
     ]
    }
   ],
   "source": [
    "#Tensorflow tokenizer to create tokens of sentences by encoding words into int categoricals\n",
    "tokenizer = Tokenizer()\n",
    "tokenizer.fit_on_texts(transcript)\n",
    "total_words = len(tokenizer.word_index) + 1\n",
    "print(tokenizer.word_index)"
   ]
  },
  {
   "cell_type": "code",
   "execution_count": 5,
   "metadata": {},
   "outputs": [],
   "source": [
    "input_sequences = []\n",
    "for line in corpus:\n",
    "\ttoken_list = tokenizer.texts_to_sequences([line])[0]\n",
    "\tfor i in range(1, len(token_list)):\n",
    "\t\tn_gram_sequence = token_list[:i+1]\n",
    "\t\tinput_sequences.append(n_gram_sequence)\n",
    "\n",
    "# pad sequences \n",
    "max_sequence_len = max([len(x) for x in input_sequences])\n",
    "input_sequences = np.array(pad_sequences(input_sequences, maxlen=max_sequence_len, padding='pre'))\n",
    "\n",
    "# create predictors and label\n",
    "xs, labels = input_sequences[:,:-1],input_sequences[:,-1]\n",
    "\n",
    "ys = tf.keras.utils.to_categorical(labels, num_classes=total_words)"
   ]
  },
  {
   "cell_type": "code",
   "execution_count": 6,
   "metadata": {},
   "outputs": [
    {
     "output_type": "stream",
     "name": "stderr",
     "text": [
      "C:\\Users\\AG\\AppData\\Local\\Programs\\Python\\Python39\\lib\\site-packages\\tensorflow\\python\\keras\\optimizer_v2\\optimizer_v2.py:374: UserWarning: The `lr` argument is deprecated, use `learning_rate` instead.\n",
      "  warnings.warn(\n",
      "Epoch 1/10\n",
      "158/158 [==============================] - 23s 115ms/step - loss: 6.5674 - accuracy: 0.0300\n",
      "Epoch 2/10\n",
      "158/158 [==============================] - 18s 114ms/step - loss: 5.5798 - accuracy: 0.0959\n",
      "Epoch 3/10\n",
      "158/158 [==============================] - 18s 113ms/step - loss: 4.4331 - accuracy: 0.1787\n",
      "Epoch 4/10\n",
      "158/158 [==============================] - 18s 114ms/step - loss: 3.2813 - accuracy: 0.3223\n",
      "Epoch 5/10\n",
      "158/158 [==============================] - 19s 117ms/step - loss: 2.3292 - accuracy: 0.4668\n",
      "Epoch 6/10\n",
      "158/158 [==============================] - 19s 120ms/step - loss: 1.5342 - accuracy: 0.6302\n",
      "Epoch 7/10\n",
      "158/158 [==============================] - 19s 121ms/step - loss: 1.0344 - accuracy: 0.7478\n",
      "Epoch 8/10\n",
      "158/158 [==============================] - 20s 126ms/step - loss: 0.6490 - accuracy: 0.8504\n",
      "Epoch 9/10\n",
      "158/158 [==============================] - 21s 133ms/step - loss: 0.4080 - accuracy: 0.9104\n",
      "Epoch 10/10\n",
      "158/158 [==============================] - 21s 130ms/step - loss: 0.2574 - accuracy: 0.9452\n",
      "<tensorflow.python.keras.engine.sequential.Sequential object at 0x000002317BDCDA00>\n"
     ]
    }
   ],
   "source": [
    "model = Sequential()\n",
    "model.add(Embedding(total_words, 250, input_length=max_sequence_len-1))\n",
    "model.add(Bidirectional(LSTM(150)))\n",
    "model.add(Dense(total_words, activation='softmax'))\n",
    "adam = Adam(lr=0.01)\n",
    "model.compile(loss='categorical_crossentropy', optimizer=adam, metrics=['accuracy'])\n",
    "#earlystop = EarlyStopping(monitor='val_loss', min_delta=0, patience=5, verbose=0, mode='auto')\n",
    "history = model.fit(xs, ys, epochs=10, verbose=1)\n",
    "#print model.summary()\n",
    "print(model)\n"
   ]
  },
  {
   "cell_type": "code",
   "execution_count": 7,
   "metadata": {},
   "outputs": [
    {
     "output_type": "display_data",
     "data": {
      "text/plain": "<Figure size 432x288 with 1 Axes>",
      "image/svg+xml": "<?xml version=\"1.0\" encoding=\"utf-8\" standalone=\"no\"?>\r\n<!DOCTYPE svg PUBLIC \"-//W3C//DTD SVG 1.1//EN\"\r\n  \"http://www.w3.org/Graphics/SVG/1.1/DTD/svg11.dtd\">\r\n<svg height=\"262.19625pt\" version=\"1.1\" viewBox=\"0 0 385.78125 262.19625\" width=\"385.78125pt\" xmlns=\"http://www.w3.org/2000/svg\" xmlns:xlink=\"http://www.w3.org/1999/xlink\">\r\n <metadata>\r\n  <rdf:RDF xmlns:cc=\"http://creativecommons.org/ns#\" xmlns:dc=\"http://purl.org/dc/elements/1.1/\" xmlns:rdf=\"http://www.w3.org/1999/02/22-rdf-syntax-ns#\">\r\n   <cc:Work>\r\n    <dc:type rdf:resource=\"http://purl.org/dc/dcmitype/StillImage\"/>\r\n    <dc:date>2021-05-02T09:13:51.881702</dc:date>\r\n    <dc:format>image/svg+xml</dc:format>\r\n    <dc:creator>\r\n     <cc:Agent>\r\n      <dc:title>Matplotlib v3.4.1, https://matplotlib.org/</dc:title>\r\n     </cc:Agent>\r\n    </dc:creator>\r\n   </cc:Work>\r\n  </rdf:RDF>\r\n </metadata>\r\n <defs>\r\n  <style type=\"text/css\">*{stroke-linecap:butt;stroke-linejoin:round;}</style>\r\n </defs>\r\n <g id=\"figure_1\">\r\n  <g id=\"patch_1\">\r\n   <path d=\"M 0 262.19625 \r\nL 385.78125 262.19625 \r\nL 385.78125 0 \r\nL 0 0 \r\nz\r\n\" style=\"fill:none;\"/>\r\n  </g>\r\n  <g id=\"axes_1\">\r\n   <g id=\"patch_2\">\r\n    <path d=\"M 43.78125 224.64 \r\nL 378.58125 224.64 \r\nL 378.58125 7.2 \r\nL 43.78125 7.2 \r\nz\r\n\" style=\"fill:#ffffff;\"/>\r\n   </g>\r\n   <g id=\"matplotlib.axis_1\">\r\n    <g id=\"xtick_1\">\r\n     <g id=\"line2d_1\">\r\n      <defs>\r\n       <path d=\"M 0 0 \r\nL 0 3.5 \r\n\" id=\"m264257b31b\" style=\"stroke:#000000;stroke-width:0.8;\"/>\r\n      </defs>\r\n      <g>\r\n       <use style=\"stroke:#000000;stroke-width:0.8;\" x=\"58.999432\" xlink:href=\"#m264257b31b\" y=\"224.64\"/>\r\n      </g>\r\n     </g>\r\n     <g id=\"text_1\">\r\n      <!-- 0 -->\r\n      <g transform=\"translate(55.818182 239.238437)scale(0.1 -0.1)\">\r\n       <defs>\r\n        <path d=\"M 2034 4250 \r\nQ 1547 4250 1301 3770 \r\nQ 1056 3291 1056 2328 \r\nQ 1056 1369 1301 889 \r\nQ 1547 409 2034 409 \r\nQ 2525 409 2770 889 \r\nQ 3016 1369 3016 2328 \r\nQ 3016 3291 2770 3770 \r\nQ 2525 4250 2034 4250 \r\nz\r\nM 2034 4750 \r\nQ 2819 4750 3233 4129 \r\nQ 3647 3509 3647 2328 \r\nQ 3647 1150 3233 529 \r\nQ 2819 -91 2034 -91 \r\nQ 1250 -91 836 529 \r\nQ 422 1150 422 2328 \r\nQ 422 3509 836 4129 \r\nQ 1250 4750 2034 4750 \r\nz\r\n\" id=\"DejaVuSans-30\" transform=\"scale(0.015625)\"/>\r\n       </defs>\r\n       <use xlink:href=\"#DejaVuSans-30\"/>\r\n      </g>\r\n     </g>\r\n    </g>\r\n    <g id=\"xtick_2\">\r\n     <g id=\"line2d_2\">\r\n      <g>\r\n       <use style=\"stroke:#000000;stroke-width:0.8;\" x=\"126.635795\" xlink:href=\"#m264257b31b\" y=\"224.64\"/>\r\n      </g>\r\n     </g>\r\n     <g id=\"text_2\">\r\n      <!-- 2 -->\r\n      <g transform=\"translate(123.454545 239.238437)scale(0.1 -0.1)\">\r\n       <defs>\r\n        <path d=\"M 1228 531 \r\nL 3431 531 \r\nL 3431 0 \r\nL 469 0 \r\nL 469 531 \r\nQ 828 903 1448 1529 \r\nQ 2069 2156 2228 2338 \r\nQ 2531 2678 2651 2914 \r\nQ 2772 3150 2772 3378 \r\nQ 2772 3750 2511 3984 \r\nQ 2250 4219 1831 4219 \r\nQ 1534 4219 1204 4116 \r\nQ 875 4013 500 3803 \r\nL 500 4441 \r\nQ 881 4594 1212 4672 \r\nQ 1544 4750 1819 4750 \r\nQ 2544 4750 2975 4387 \r\nQ 3406 4025 3406 3419 \r\nQ 3406 3131 3298 2873 \r\nQ 3191 2616 2906 2266 \r\nQ 2828 2175 2409 1742 \r\nQ 1991 1309 1228 531 \r\nz\r\n\" id=\"DejaVuSans-32\" transform=\"scale(0.015625)\"/>\r\n       </defs>\r\n       <use xlink:href=\"#DejaVuSans-32\"/>\r\n      </g>\r\n     </g>\r\n    </g>\r\n    <g id=\"xtick_3\">\r\n     <g id=\"line2d_3\">\r\n      <g>\r\n       <use style=\"stroke:#000000;stroke-width:0.8;\" x=\"194.272159\" xlink:href=\"#m264257b31b\" y=\"224.64\"/>\r\n      </g>\r\n     </g>\r\n     <g id=\"text_3\">\r\n      <!-- 4 -->\r\n      <g transform=\"translate(191.090909 239.238437)scale(0.1 -0.1)\">\r\n       <defs>\r\n        <path d=\"M 2419 4116 \r\nL 825 1625 \r\nL 2419 1625 \r\nL 2419 4116 \r\nz\r\nM 2253 4666 \r\nL 3047 4666 \r\nL 3047 1625 \r\nL 3713 1625 \r\nL 3713 1100 \r\nL 3047 1100 \r\nL 3047 0 \r\nL 2419 0 \r\nL 2419 1100 \r\nL 313 1100 \r\nL 313 1709 \r\nL 2253 4666 \r\nz\r\n\" id=\"DejaVuSans-34\" transform=\"scale(0.015625)\"/>\r\n       </defs>\r\n       <use xlink:href=\"#DejaVuSans-34\"/>\r\n      </g>\r\n     </g>\r\n    </g>\r\n    <g id=\"xtick_4\">\r\n     <g id=\"line2d_4\">\r\n      <g>\r\n       <use style=\"stroke:#000000;stroke-width:0.8;\" x=\"261.908523\" xlink:href=\"#m264257b31b\" y=\"224.64\"/>\r\n      </g>\r\n     </g>\r\n     <g id=\"text_4\">\r\n      <!-- 6 -->\r\n      <g transform=\"translate(258.727273 239.238437)scale(0.1 -0.1)\">\r\n       <defs>\r\n        <path d=\"M 2113 2584 \r\nQ 1688 2584 1439 2293 \r\nQ 1191 2003 1191 1497 \r\nQ 1191 994 1439 701 \r\nQ 1688 409 2113 409 \r\nQ 2538 409 2786 701 \r\nQ 3034 994 3034 1497 \r\nQ 3034 2003 2786 2293 \r\nQ 2538 2584 2113 2584 \r\nz\r\nM 3366 4563 \r\nL 3366 3988 \r\nQ 3128 4100 2886 4159 \r\nQ 2644 4219 2406 4219 \r\nQ 1781 4219 1451 3797 \r\nQ 1122 3375 1075 2522 \r\nQ 1259 2794 1537 2939 \r\nQ 1816 3084 2150 3084 \r\nQ 2853 3084 3261 2657 \r\nQ 3669 2231 3669 1497 \r\nQ 3669 778 3244 343 \r\nQ 2819 -91 2113 -91 \r\nQ 1303 -91 875 529 \r\nQ 447 1150 447 2328 \r\nQ 447 3434 972 4092 \r\nQ 1497 4750 2381 4750 \r\nQ 2619 4750 2861 4703 \r\nQ 3103 4656 3366 4563 \r\nz\r\n\" id=\"DejaVuSans-36\" transform=\"scale(0.015625)\"/>\r\n       </defs>\r\n       <use xlink:href=\"#DejaVuSans-36\"/>\r\n      </g>\r\n     </g>\r\n    </g>\r\n    <g id=\"xtick_5\">\r\n     <g id=\"line2d_5\">\r\n      <g>\r\n       <use style=\"stroke:#000000;stroke-width:0.8;\" x=\"329.544886\" xlink:href=\"#m264257b31b\" y=\"224.64\"/>\r\n      </g>\r\n     </g>\r\n     <g id=\"text_5\">\r\n      <!-- 8 -->\r\n      <g transform=\"translate(326.363636 239.238437)scale(0.1 -0.1)\">\r\n       <defs>\r\n        <path d=\"M 2034 2216 \r\nQ 1584 2216 1326 1975 \r\nQ 1069 1734 1069 1313 \r\nQ 1069 891 1326 650 \r\nQ 1584 409 2034 409 \r\nQ 2484 409 2743 651 \r\nQ 3003 894 3003 1313 \r\nQ 3003 1734 2745 1975 \r\nQ 2488 2216 2034 2216 \r\nz\r\nM 1403 2484 \r\nQ 997 2584 770 2862 \r\nQ 544 3141 544 3541 \r\nQ 544 4100 942 4425 \r\nQ 1341 4750 2034 4750 \r\nQ 2731 4750 3128 4425 \r\nQ 3525 4100 3525 3541 \r\nQ 3525 3141 3298 2862 \r\nQ 3072 2584 2669 2484 \r\nQ 3125 2378 3379 2068 \r\nQ 3634 1759 3634 1313 \r\nQ 3634 634 3220 271 \r\nQ 2806 -91 2034 -91 \r\nQ 1263 -91 848 271 \r\nQ 434 634 434 1313 \r\nQ 434 1759 690 2068 \r\nQ 947 2378 1403 2484 \r\nz\r\nM 1172 3481 \r\nQ 1172 3119 1398 2916 \r\nQ 1625 2713 2034 2713 \r\nQ 2441 2713 2670 2916 \r\nQ 2900 3119 2900 3481 \r\nQ 2900 3844 2670 4047 \r\nQ 2441 4250 2034 4250 \r\nQ 1625 4250 1398 4047 \r\nQ 1172 3844 1172 3481 \r\nz\r\n\" id=\"DejaVuSans-38\" transform=\"scale(0.015625)\"/>\r\n       </defs>\r\n       <use xlink:href=\"#DejaVuSans-38\"/>\r\n      </g>\r\n     </g>\r\n    </g>\r\n    <g id=\"text_6\">\r\n     <!-- Epochs -->\r\n     <g transform=\"translate(193.265625 252.916562)scale(0.1 -0.1)\">\r\n      <defs>\r\n       <path d=\"M 628 4666 \r\nL 3578 4666 \r\nL 3578 4134 \r\nL 1259 4134 \r\nL 1259 2753 \r\nL 3481 2753 \r\nL 3481 2222 \r\nL 1259 2222 \r\nL 1259 531 \r\nL 3634 531 \r\nL 3634 0 \r\nL 628 0 \r\nL 628 4666 \r\nz\r\n\" id=\"DejaVuSans-45\" transform=\"scale(0.015625)\"/>\r\n       <path d=\"M 1159 525 \r\nL 1159 -1331 \r\nL 581 -1331 \r\nL 581 3500 \r\nL 1159 3500 \r\nL 1159 2969 \r\nQ 1341 3281 1617 3432 \r\nQ 1894 3584 2278 3584 \r\nQ 2916 3584 3314 3078 \r\nQ 3713 2572 3713 1747 \r\nQ 3713 922 3314 415 \r\nQ 2916 -91 2278 -91 \r\nQ 1894 -91 1617 61 \r\nQ 1341 213 1159 525 \r\nz\r\nM 3116 1747 \r\nQ 3116 2381 2855 2742 \r\nQ 2594 3103 2138 3103 \r\nQ 1681 3103 1420 2742 \r\nQ 1159 2381 1159 1747 \r\nQ 1159 1113 1420 752 \r\nQ 1681 391 2138 391 \r\nQ 2594 391 2855 752 \r\nQ 3116 1113 3116 1747 \r\nz\r\n\" id=\"DejaVuSans-70\" transform=\"scale(0.015625)\"/>\r\n       <path d=\"M 1959 3097 \r\nQ 1497 3097 1228 2736 \r\nQ 959 2375 959 1747 \r\nQ 959 1119 1226 758 \r\nQ 1494 397 1959 397 \r\nQ 2419 397 2687 759 \r\nQ 2956 1122 2956 1747 \r\nQ 2956 2369 2687 2733 \r\nQ 2419 3097 1959 3097 \r\nz\r\nM 1959 3584 \r\nQ 2709 3584 3137 3096 \r\nQ 3566 2609 3566 1747 \r\nQ 3566 888 3137 398 \r\nQ 2709 -91 1959 -91 \r\nQ 1206 -91 779 398 \r\nQ 353 888 353 1747 \r\nQ 353 2609 779 3096 \r\nQ 1206 3584 1959 3584 \r\nz\r\n\" id=\"DejaVuSans-6f\" transform=\"scale(0.015625)\"/>\r\n       <path d=\"M 3122 3366 \r\nL 3122 2828 \r\nQ 2878 2963 2633 3030 \r\nQ 2388 3097 2138 3097 \r\nQ 1578 3097 1268 2742 \r\nQ 959 2388 959 1747 \r\nQ 959 1106 1268 751 \r\nQ 1578 397 2138 397 \r\nQ 2388 397 2633 464 \r\nQ 2878 531 3122 666 \r\nL 3122 134 \r\nQ 2881 22 2623 -34 \r\nQ 2366 -91 2075 -91 \r\nQ 1284 -91 818 406 \r\nQ 353 903 353 1747 \r\nQ 353 2603 823 3093 \r\nQ 1294 3584 2113 3584 \r\nQ 2378 3584 2631 3529 \r\nQ 2884 3475 3122 3366 \r\nz\r\n\" id=\"DejaVuSans-63\" transform=\"scale(0.015625)\"/>\r\n       <path d=\"M 3513 2113 \r\nL 3513 0 \r\nL 2938 0 \r\nL 2938 2094 \r\nQ 2938 2591 2744 2837 \r\nQ 2550 3084 2163 3084 \r\nQ 1697 3084 1428 2787 \r\nQ 1159 2491 1159 1978 \r\nL 1159 0 \r\nL 581 0 \r\nL 581 4863 \r\nL 1159 4863 \r\nL 1159 2956 \r\nQ 1366 3272 1645 3428 \r\nQ 1925 3584 2291 3584 \r\nQ 2894 3584 3203 3211 \r\nQ 3513 2838 3513 2113 \r\nz\r\n\" id=\"DejaVuSans-68\" transform=\"scale(0.015625)\"/>\r\n       <path d=\"M 2834 3397 \r\nL 2834 2853 \r\nQ 2591 2978 2328 3040 \r\nQ 2066 3103 1784 3103 \r\nQ 1356 3103 1142 2972 \r\nQ 928 2841 928 2578 \r\nQ 928 2378 1081 2264 \r\nQ 1234 2150 1697 2047 \r\nL 1894 2003 \r\nQ 2506 1872 2764 1633 \r\nQ 3022 1394 3022 966 \r\nQ 3022 478 2636 193 \r\nQ 2250 -91 1575 -91 \r\nQ 1294 -91 989 -36 \r\nQ 684 19 347 128 \r\nL 347 722 \r\nQ 666 556 975 473 \r\nQ 1284 391 1588 391 \r\nQ 1994 391 2212 530 \r\nQ 2431 669 2431 922 \r\nQ 2431 1156 2273 1281 \r\nQ 2116 1406 1581 1522 \r\nL 1381 1569 \r\nQ 847 1681 609 1914 \r\nQ 372 2147 372 2553 \r\nQ 372 3047 722 3315 \r\nQ 1072 3584 1716 3584 \r\nQ 2034 3584 2315 3537 \r\nQ 2597 3491 2834 3397 \r\nz\r\n\" id=\"DejaVuSans-73\" transform=\"scale(0.015625)\"/>\r\n      </defs>\r\n      <use xlink:href=\"#DejaVuSans-45\"/>\r\n      <use x=\"63.183594\" xlink:href=\"#DejaVuSans-70\"/>\r\n      <use x=\"126.660156\" xlink:href=\"#DejaVuSans-6f\"/>\r\n      <use x=\"187.841797\" xlink:href=\"#DejaVuSans-63\"/>\r\n      <use x=\"242.822266\" xlink:href=\"#DejaVuSans-68\"/>\r\n      <use x=\"306.201172\" xlink:href=\"#DejaVuSans-73\"/>\r\n     </g>\r\n    </g>\r\n   </g>\r\n   <g id=\"matplotlib.axis_2\">\r\n    <g id=\"ytick_1\">\r\n     <g id=\"line2d_6\">\r\n      <defs>\r\n       <path d=\"M 0 0 \r\nL -3.5 0 \r\n\" id=\"m8c62ec1f3f\" style=\"stroke:#000000;stroke-width:0.8;\"/>\r\n      </defs>\r\n      <g>\r\n       <use style=\"stroke:#000000;stroke-width:0.8;\" x=\"43.78125\" xlink:href=\"#m8c62ec1f3f\" y=\"223.809406\"/>\r\n      </g>\r\n     </g>\r\n     <g id=\"text_7\">\r\n      <!-- 0.0 -->\r\n      <g transform=\"translate(20.878125 227.608624)scale(0.1 -0.1)\">\r\n       <defs>\r\n        <path d=\"M 684 794 \r\nL 1344 794 \r\nL 1344 0 \r\nL 684 0 \r\nL 684 794 \r\nz\r\n\" id=\"DejaVuSans-2e\" transform=\"scale(0.015625)\"/>\r\n       </defs>\r\n       <use xlink:href=\"#DejaVuSans-30\"/>\r\n       <use x=\"63.623047\" xlink:href=\"#DejaVuSans-2e\"/>\r\n       <use x=\"95.410156\" xlink:href=\"#DejaVuSans-30\"/>\r\n      </g>\r\n     </g>\r\n    </g>\r\n    <g id=\"ytick_2\">\r\n     <g id=\"line2d_7\">\r\n      <g>\r\n       <use style=\"stroke:#000000;stroke-width:0.8;\" x=\"43.78125\" xlink:href=\"#m8c62ec1f3f\" y=\"179.484659\"/>\r\n      </g>\r\n     </g>\r\n     <g id=\"text_8\">\r\n      <!-- 0.2 -->\r\n      <g transform=\"translate(20.878125 183.283878)scale(0.1 -0.1)\">\r\n       <use xlink:href=\"#DejaVuSans-30\"/>\r\n       <use x=\"63.623047\" xlink:href=\"#DejaVuSans-2e\"/>\r\n       <use x=\"95.410156\" xlink:href=\"#DejaVuSans-32\"/>\r\n      </g>\r\n     </g>\r\n    </g>\r\n    <g id=\"ytick_3\">\r\n     <g id=\"line2d_8\">\r\n      <g>\r\n       <use style=\"stroke:#000000;stroke-width:0.8;\" x=\"43.78125\" xlink:href=\"#m8c62ec1f3f\" y=\"135.159912\"/>\r\n      </g>\r\n     </g>\r\n     <g id=\"text_9\">\r\n      <!-- 0.4 -->\r\n      <g transform=\"translate(20.878125 138.959131)scale(0.1 -0.1)\">\r\n       <use xlink:href=\"#DejaVuSans-30\"/>\r\n       <use x=\"63.623047\" xlink:href=\"#DejaVuSans-2e\"/>\r\n       <use x=\"95.410156\" xlink:href=\"#DejaVuSans-34\"/>\r\n      </g>\r\n     </g>\r\n    </g>\r\n    <g id=\"ytick_4\">\r\n     <g id=\"line2d_9\">\r\n      <g>\r\n       <use style=\"stroke:#000000;stroke-width:0.8;\" x=\"43.78125\" xlink:href=\"#m8c62ec1f3f\" y=\"90.835166\"/>\r\n      </g>\r\n     </g>\r\n     <g id=\"text_10\">\r\n      <!-- 0.6 -->\r\n      <g transform=\"translate(20.878125 94.634384)scale(0.1 -0.1)\">\r\n       <use xlink:href=\"#DejaVuSans-30\"/>\r\n       <use x=\"63.623047\" xlink:href=\"#DejaVuSans-2e\"/>\r\n       <use x=\"95.410156\" xlink:href=\"#DejaVuSans-36\"/>\r\n      </g>\r\n     </g>\r\n    </g>\r\n    <g id=\"ytick_5\">\r\n     <g id=\"line2d_10\">\r\n      <g>\r\n       <use style=\"stroke:#000000;stroke-width:0.8;\" x=\"43.78125\" xlink:href=\"#m8c62ec1f3f\" y=\"46.510419\"/>\r\n      </g>\r\n     </g>\r\n     <g id=\"text_11\">\r\n      <!-- 0.8 -->\r\n      <g transform=\"translate(20.878125 50.309638)scale(0.1 -0.1)\">\r\n       <use xlink:href=\"#DejaVuSans-30\"/>\r\n       <use x=\"63.623047\" xlink:href=\"#DejaVuSans-2e\"/>\r\n       <use x=\"95.410156\" xlink:href=\"#DejaVuSans-38\"/>\r\n      </g>\r\n     </g>\r\n    </g>\r\n    <g id=\"text_12\">\r\n     <!-- accuracy -->\r\n     <g transform=\"translate(14.798438 138.479375)rotate(-90)scale(0.1 -0.1)\">\r\n      <defs>\r\n       <path d=\"M 2194 1759 \r\nQ 1497 1759 1228 1600 \r\nQ 959 1441 959 1056 \r\nQ 959 750 1161 570 \r\nQ 1363 391 1709 391 \r\nQ 2188 391 2477 730 \r\nQ 2766 1069 2766 1631 \r\nL 2766 1759 \r\nL 2194 1759 \r\nz\r\nM 3341 1997 \r\nL 3341 0 \r\nL 2766 0 \r\nL 2766 531 \r\nQ 2569 213 2275 61 \r\nQ 1981 -91 1556 -91 \r\nQ 1019 -91 701 211 \r\nQ 384 513 384 1019 \r\nQ 384 1609 779 1909 \r\nQ 1175 2209 1959 2209 \r\nL 2766 2209 \r\nL 2766 2266 \r\nQ 2766 2663 2505 2880 \r\nQ 2244 3097 1772 3097 \r\nQ 1472 3097 1187 3025 \r\nQ 903 2953 641 2809 \r\nL 641 3341 \r\nQ 956 3463 1253 3523 \r\nQ 1550 3584 1831 3584 \r\nQ 2591 3584 2966 3190 \r\nQ 3341 2797 3341 1997 \r\nz\r\n\" id=\"DejaVuSans-61\" transform=\"scale(0.015625)\"/>\r\n       <path d=\"M 544 1381 \r\nL 544 3500 \r\nL 1119 3500 \r\nL 1119 1403 \r\nQ 1119 906 1312 657 \r\nQ 1506 409 1894 409 \r\nQ 2359 409 2629 706 \r\nQ 2900 1003 2900 1516 \r\nL 2900 3500 \r\nL 3475 3500 \r\nL 3475 0 \r\nL 2900 0 \r\nL 2900 538 \r\nQ 2691 219 2414 64 \r\nQ 2138 -91 1772 -91 \r\nQ 1169 -91 856 284 \r\nQ 544 659 544 1381 \r\nz\r\nM 1991 3584 \r\nL 1991 3584 \r\nz\r\n\" id=\"DejaVuSans-75\" transform=\"scale(0.015625)\"/>\r\n       <path d=\"M 2631 2963 \r\nQ 2534 3019 2420 3045 \r\nQ 2306 3072 2169 3072 \r\nQ 1681 3072 1420 2755 \r\nQ 1159 2438 1159 1844 \r\nL 1159 0 \r\nL 581 0 \r\nL 581 3500 \r\nL 1159 3500 \r\nL 1159 2956 \r\nQ 1341 3275 1631 3429 \r\nQ 1922 3584 2338 3584 \r\nQ 2397 3584 2469 3576 \r\nQ 2541 3569 2628 3553 \r\nL 2631 2963 \r\nz\r\n\" id=\"DejaVuSans-72\" transform=\"scale(0.015625)\"/>\r\n       <path d=\"M 2059 -325 \r\nQ 1816 -950 1584 -1140 \r\nQ 1353 -1331 966 -1331 \r\nL 506 -1331 \r\nL 506 -850 \r\nL 844 -850 \r\nQ 1081 -850 1212 -737 \r\nQ 1344 -625 1503 -206 \r\nL 1606 56 \r\nL 191 3500 \r\nL 800 3500 \r\nL 1894 763 \r\nL 2988 3500 \r\nL 3597 3500 \r\nL 2059 -325 \r\nz\r\n\" id=\"DejaVuSans-79\" transform=\"scale(0.015625)\"/>\r\n      </defs>\r\n      <use xlink:href=\"#DejaVuSans-61\"/>\r\n      <use x=\"61.279297\" xlink:href=\"#DejaVuSans-63\"/>\r\n      <use x=\"116.259766\" xlink:href=\"#DejaVuSans-63\"/>\r\n      <use x=\"171.240234\" xlink:href=\"#DejaVuSans-75\"/>\r\n      <use x=\"234.619141\" xlink:href=\"#DejaVuSans-72\"/>\r\n      <use x=\"275.732422\" xlink:href=\"#DejaVuSans-61\"/>\r\n      <use x=\"337.011719\" xlink:href=\"#DejaVuSans-63\"/>\r\n      <use x=\"391.992188\" xlink:href=\"#DejaVuSans-79\"/>\r\n     </g>\r\n    </g>\r\n   </g>\r\n   <g id=\"line2d_11\">\r\n    <path clip-path=\"url(#pd1dfacc108)\" d=\"M 58.999432 214.756364 \r\nL 92.817614 202.363365 \r\nL 126.635795 189.48695 \r\nL 160.453977 164.349377 \r\nL 194.272159 132.04848 \r\nL 228.090341 96.934985 \r\nL 261.908523 67.051159 \r\nL 295.726705 41.29833 \r\nL 329.544886 25.697208 \r\nL 363.363068 17.083636 \r\n\" style=\"fill:none;stroke:#1f77b4;stroke-linecap:square;stroke-width:1.5;\"/>\r\n   </g>\r\n   <g id=\"patch_3\">\r\n    <path d=\"M 43.78125 224.64 \r\nL 43.78125 7.2 \r\n\" style=\"fill:none;stroke:#000000;stroke-linecap:square;stroke-linejoin:miter;stroke-width:0.8;\"/>\r\n   </g>\r\n   <g id=\"patch_4\">\r\n    <path d=\"M 378.58125 224.64 \r\nL 378.58125 7.2 \r\n\" style=\"fill:none;stroke:#000000;stroke-linecap:square;stroke-linejoin:miter;stroke-width:0.8;\"/>\r\n   </g>\r\n   <g id=\"patch_5\">\r\n    <path d=\"M 43.78125 224.64 \r\nL 378.58125 224.64 \r\n\" style=\"fill:none;stroke:#000000;stroke-linecap:square;stroke-linejoin:miter;stroke-width:0.8;\"/>\r\n   </g>\r\n   <g id=\"patch_6\">\r\n    <path d=\"M 43.78125 7.2 \r\nL 378.58125 7.2 \r\n\" style=\"fill:none;stroke:#000000;stroke-linecap:square;stroke-linejoin:miter;stroke-width:0.8;\"/>\r\n   </g>\r\n  </g>\r\n </g>\r\n <defs>\r\n  <clipPath id=\"pd1dfacc108\">\r\n   <rect height=\"217.44\" width=\"334.8\" x=\"43.78125\" y=\"7.2\"/>\r\n  </clipPath>\r\n </defs>\r\n</svg>\r\n",
      "image/png": "[encoded data removed]"
     },
     "metadata": {
      "needs_background": "light"
     }
    }
   ],
   "source": [
    "import matplotlib.pyplot as plt\n",
    "\n",
    "\n",
    "def plot_graphs(history, string):\n",
    "  plt.plot(history.history[string])\n",
    "  plt.xlabel(\"Epochs\")\n",
    "  plt.ylabel(string)\n",
    "  plt.show()\n",
    "\n",
    "plot_graphs(history, 'accuracy')"
   ]
  },
  {
   "cell_type": "code",
   "execution_count": 8,
   "metadata": {},
   "outputs": [
    {
     "output_type": "stream",
     "name": "stderr",
     "text": [
      "C:\\Users\\AG\\AppData\\Local\\Programs\\Python\\Python39\\lib\\site-packages\\tensorflow\\python\\keras\\engine\\sequential.py:455: UserWarning: `model.predict_classes()` is deprecated and will be removed after 2021-01-01. Please use instead:* `np.argmax(model.predict(x), axis=-1)`,   if your model does multi-class classification   (e.g. if it uses a `softmax` last-layer activation).* `(model.predict(x) > 0.5).astype(\"int32\")`,   if your model does binary classification   (e.g. if it uses a `sigmoid` last-layer activation).\n",
      "  warnings.warn('`model.predict_classes()` is deprecated and '\n",
      "I've got a bad feeling about this part of the 60 years of talking to my dad i picked up the phone vande wholesome and said i bet if you were up to you you probably go back in time and change some things of fertilizer but i can't have to you what are you doing it is a lot of curiosity behind by the conversation it helps us to be curious about the author and use the legal right to decide at for themselves to face to the terminal illness that it is the public and get hurt you today about the private from when we\n"
     ]
    }
   ],
   "source": [
    "seed_text = \"I've got a bad feeling about this\"\n",
    "next_words = 100\n",
    "  \n",
    "for _ in range(next_words):\n",
    "\ttoken_list = tokenizer.texts_to_sequences([seed_text])[0]\n",
    "\ttoken_list = pad_sequences([token_list], maxlen=max_sequence_len-1, padding='pre')\n",
    "\tpredicted = model.predict_classes(token_list, verbose=0)\n",
    "\toutput_word = \"\"\n",
    "\tfor word, index in tokenizer.word_index.items():\n",
    "\t\tif index == predicted:\n",
    "\t\t\toutput_word = word\n",
    "\t\t\tbreak\n",
    "\tseed_text += \" \" + output_word\n",
    "print(seed_text)"
   ]
  },
  {
   "source": [
    "Well, that was anticlimatic. Will return to to this when I can understand tensorflow workings, loss functions, verbose and etc. The ML part of the code is taken right out of the tensorflow tutorial."
   ],
   "cell_type": "markdown",
   "metadata": {}
  }
 ],
 "metadata": {
  "kernelspec": {
   "name": "python392jvsc74a57bd061a919983dc477d17668f0590c4ef435aa61ba471860ff92cef845a6c326a65b",
   "display_name": "Python 3.9.2 64-bit"
  },
  "language_info": {
   "codemirror_mode": {
    "name": "ipython",
    "version": 3
   },
   "file_extension": ".py",
   "mimetype": "text/x-python",
   "name": "python",
   "nbconvert_exporter": "python",
   "pygments_lexer": "ipython3",
   "version": "3.9.2"
  }
 },
 "nbformat": 4,
 "nbformat_minor": 5
}