{
 "cells": [
  {
   "cell_type": "code",
   "execution_count": 158,
   "id": "1f0e8482-cfe6-41b7-a09a-fb159bfa65f6",
   "metadata": {},
   "outputs": [],
   "source": [
    "from pytube import YouTube\n",
    "import time\n",
    "from selenium import webdriver\n",
    "from selenium.webdriver.common.keys import Keys\n",
    "import pandas as pd\n",
    "from IPython.display import clear_output\n",
    "import os, glob\n",
    "import speech_recognition as sr\n",
    "import ffmpy\n",
    "import wave\n",
    "import contextlib\n",
    "import random\n",
    "from google.cloud import speech\n",
    "from pydub import AudioSegment\n",
    "from pydub.silence import split_on_silence"
   ]
  },
  {
   "cell_type": "code",
   "execution_count": 4,
   "id": "b0686ef9-f22a-4c3c-86cf-bae0c8e61d34",
   "metadata": {},
   "outputs": [],
   "source": [
    "links = []"
   ]
  },
  {
   "cell_type": "code",
   "execution_count": 5,
   "id": "34101be6-b93b-48ca-a96f-75ced2675668",
   "metadata": {
    "collapsed": true,
    "jupyter": {
     "outputs_hidden": true
    },
    "tags": []
   },
   "outputs": [
    {
     "output_type": "stream",
     "name": "stdout",
     "text": [
      "Total pages scraped: 1\n"
     ]
    }
   ],
   "source": [
    "driver = webdriver.Chrome('G:\\My Drive\\Desktop\\Tools\\chromedriver89.exe');\n",
    "driver.get('https://www.youtube.com/c/TED/videos'); time.sleep(3);\n",
    "#driver.get('https://www.youtube.com/c/TED/videos?view=0&sort=da&flow=grid'); time.sleep(3)\n",
    "\n",
    "page = []\n",
    "\n",
    "while len(page)<1:\n",
    "    driver.find_element_by_css_selector(\"div#search-input > input#search\").send_keys(Keys.PAGE_DOWN);\n",
    "    page.append(driver.find_elements_by_xpath(\"/html//div[@id='details']/div[@id='meta']//a[@href]\"));\n",
    "    clear_output()\n",
    "    print(f'Total pages scraped: {len(page)}');\n",
    "for x in page[-1]:\n",
    "    if x.get_attribute('href') not in links:\n",
    "        links.append(x.get_attribute('href'))\n",
    "    else:\n",
    "        pass\n",
    "driver.close()\n",
    "driver.quit()"
   ]
  },
  {
   "cell_type": "code",
   "execution_count": 7,
   "id": "8a7ce00c-ebf8-4836-ba6d-e5b69accab5e",
   "metadata": {},
   "outputs": [
    {
     "output_type": "execute_result",
     "data": {
      "text/plain": [
       "                                             0\n",
       "0  https://www.youtube.com/watch?v=Qm02X0aE8uU\n",
       "1  https://www.youtube.com/watch?v=Axh07mJ9Ag4\n",
       "2  https://www.youtube.com/watch?v=Mkelhs_OVMc\n",
       "3  https://www.youtube.com/watch?v=g4xGbbDACDw\n",
       "4  https://www.youtube.com/watch?v=CpzjPnDW1G4"
      ],
      "text/html": "<div>\n<style scoped>\n    .dataframe tbody tr th:only-of-type {\n        vertical-align: middle;\n    }\n\n    .dataframe tbody tr th {\n        vertical-align: top;\n    }\n\n    .dataframe thead th {\n        text-align: right;\n    }\n</style>\n<table border=\"1\" class=\"dataframe\">\n  <thead>\n    <tr style=\"text-align: right;\">\n      <th></th>\n      <th>0</th>\n    </tr>\n  </thead>\n  <tbody>\n    <tr>\n      <th>0</th>\n      <td>https://www.youtube.com/watch?v=Qm02X0aE8uU</td>\n    </tr>\n    <tr>\n      <th>1</th>\n      <td>https://www.youtube.com/watch?v=Axh07mJ9Ag4</td>\n    </tr>\n    <tr>\n      <th>2</th>\n      <td>https://www.youtube.com/watch?v=Mkelhs_OVMc</td>\n    </tr>\n    <tr>\n      <th>3</th>\n      <td>https://www.youtube.com/watch?v=g4xGbbDACDw</td>\n    </tr>\n    <tr>\n      <th>4</th>\n      <td>https://www.youtube.com/watch?v=CpzjPnDW1G4</td>\n    </tr>\n  </tbody>\n</table>\n</div>"
     },
     "metadata": {},
     "execution_count": 7
    }
   ],
   "source": [
    "pd.DataFrame(links).to_csv(f'TEDx_links.csv', index = False)\n",
    "data = pd.read_csv(f'TEDx_links.csv')\n",
    "data.head()"
   ]
  },
  {
   "cell_type": "code",
   "execution_count": 75,
   "id": "08dcf18e-fdb4-496e-bf50-3d59cc9204a2",
   "metadata": {},
   "outputs": [
    {
     "output_type": "execute_result",
     "data": {
      "text/plain": [
       "'https://www.youtube.com/watch?v=Qm02X0aE8uU'"
      ]
     },
     "metadata": {},
     "execution_count": 75
    }
   ],
   "source": [
    "str(data.loc[0]).split(' ')[4].split('\\n')[0] \n",
    "#This feels too long just to query the value at index as string instead of object."
   ]
  },
  {
   "cell_type": "code",
   "execution_count": 11,
   "id": "e8f7d7f4-4f8a-44ab-8923-26be10a73ac4",
   "metadata": {},
   "outputs": [
    {
     "output_type": "stream",
     "name": "stdout",
     "text": [
      "Total links: 30\n"
     ]
    }
   ],
   "source": [
    "print(f'Total links: {len(data)}')"
   ]
  },
  {
   "cell_type": "code",
   "execution_count": 166,
   "id": "2551e2c6-6f14-4d06-a99a-16beb0458030",
   "metadata": {
    "tags": []
   },
   "outputs": [
    {
     "output_type": "stream",
     "name": "stdout",
     "text": [
      "['Can we learn to talk to sperm whales  David Gruber.mp4', '4 myths and misunderstandings about doing business in Africa  Nomava Zanazo.mp4', 'The giant leaps in language technology -- and whos left behind  Kalika Bali.mp4']\n"
     ]
    }
   ],
   "source": [
    "print(files[0:5])"
   ]
  },
  {
   "cell_type": "code",
   "execution_count": 171,
   "metadata": {},
   "outputs": [
    {
     "output_type": "stream",
     "name": "stdout",
     "text": [
      "Downloaded 5 videos.\n",
      "All videos converted.\n"
     ]
    }
   ],
   "source": [
    "#Download videos from YouTube using scraped link list\n",
    "for x in range(5):\n",
    "    yt = YouTube(str(data.loc[x]).split(' ')[4].split('\\n')[0])\n",
    "    yt.streams.filter(only_audio=True)[0].download('rawFiles')\n",
    "    clear_output()\n",
    "    print(f'Downloaded {x+1} videos.')\n",
    "\n",
    "#Remove old files to make a clean batch\n",
    "for file in [x for x in os.listdir('rawFiles') if x.split('.')[-1]!='mp4']:\n",
    "    os.remove(f'rawFiles\\\\{file}')\n",
    "\n",
    "#Convert .mp4 to .wav and encoding filename for processing\n",
    "for idx, file in enumerate([x for x in os.listdir('rawFiles') if x.split('.')[-1]=='mp4']):\n",
    "    ff = ffmpy.FFmpeg(executable=\"drivers\\\\ffmpeg.exe\",\\\n",
    "                      inputs = {f\"rawFiles\\\\{file}\" : None},\\\n",
    "                      outputs = {f\"rawFiles\\\\{idx}.wav\" : f'-acodec pcm_s16le -ac 1 -ar 16000'})\n",
    "    ff.run()\n",
    "    os.remove(f'rawFiles\\\\{file}')\n",
    "print('All videos converted.')"
   ]
  },
  {
   "cell_type": "code",
   "execution_count": 384,
   "id": "73579261-0186-4e00-9432-422026c261e5",
   "metadata": {
    "collapsed": true,
    "jupyter": {
     "outputs_hidden": true
    },
    "tags": []
   },
   "outputs": [],
   "source": [
    "#Method1: Splitting by a fixed time length.\n",
    "cut_len = 10 #seconds\n",
    "\n",
    "for idx, file in enumerate([x for x in os.listdir('rawFiles') if x.split('.')[-1]=='wav']):\n",
    "    with contextlib.closing(wave.open(f'rawFiles\\\\{file}','r')) as f: #opening the file to read\n",
    "        duration = round(f.getnframes() / float(f.getframerate())) #total frames / the framerate\n",
    "    x=0\n",
    "    while x<duration/cut_len: #doing it this way to have x as 1 or could have simply added cut_len to x at each iter\n",
    "        ff = ffmpy.FFmpeg(executable=\"drivers\\\\ffmpeg.exe\",\\\n",
    "                          inputs = {f\"rawFiles\\\\{file}\" : None},\\\n",
    "                          outputs = {f\"splitFiles\\\\{idx}_{x}.wav\" : f'-ss {12+x*cut_len} -t {cut_len}'}) # -ss(starting at) -t(seconds to keep) that 12 is to crop out TEDx intro sound :P\n",
    "        ff.run()\n",
    "        x+=1"
   ]
  },
  {
   "cell_type": "code",
   "execution_count": 379,
   "metadata": {},
   "outputs": [],
   "source": [
    "#Method2: Splitting by silence in audio.\n",
    "\n",
    "'''for file in [x for x in os.listdir('rawFiles') if x.split('.')[-1]=='wav']:\n",
    "    song = AudioSegment.from_wav(f\"rawFiles\\\\{file}\")\n",
    "    chunks = split_on_silence(song, min_silence_len = 800, silence_thresh = -50)\n",
    "    for idx, chunk in enumerate(chunks):\n",
    "        chunk.export(f\"splitFiles\\\\{file}_{idx}.wav\", format='wav')'''"
   ]
  },
  {
   "cell_type": "code",
   "execution_count": 157,
   "id": "19b7f7ed-c077-45f1-ac98-c3f4e5495688",
   "metadata": {
    "collapsed": true,
    "jupyter": {
     "outputs_hidden": true
    },
    "tags": []
   },
   "outputs": [
    {
     "output_type": "stream",
     "name": "stdout",
     "text": [
      "207\n['discount', 'aatankwad chief editor and family', 'school bus', 'most sexiest performance ever existed', 'is the distance of the my is palm oil from weather in our and this is amazing the complex matriarchal society', 'Scott Thomas working communication', 'new design', \"please don't get me now what's time\", 'factory and find out', 'next five years our team of Specialists provide a linguist Marine biologist intuition Technologies make contact with another species and hopefully', 'Mere Kata', 'people nature which can change your perspective about self and reshape', 'relationship', 'online punishment', 'Vishwa course in pattern in Bengal', 'Hip Hop recent make contact with other animals for hundreds of years', 'how can we do what others cannot', \"especially given I'm sitting here on my couch in New York city\", 'animal that have time I can purchase', 'I spent the last few years as a Marine biologist and oceanographer sitting Roshan from all the two perspectives from microbes short', 'interdisciplinary teams in the first to see the world famous short perspective and collaborated with engineers to design robots gentle and stressed jellyfish', '2018 Radcliffe institute for advanced study', 'best way to understand the ocean and sea in the world together', 'came into cents per Mile for that sound', 'universe', \"harmonious wail songs that I've been accustomed to this sounded more like it transfer\", 'which member of the future projects any team began discussing are used most advanced technology used to communicate with', 'understanding the parents is form of communication', 'anytime profibus Technologies is now', 'cracking the interspecies communication code', 'testing', 'weather report', 'open unlisting Paras footwear', 'one understand a message from my location', 'this how does this sentence is we know it', 'structure of these animals communicate to each other in sequences and British and Australian accent', 'this approach is analyse parents in relationship in map meaning to them', 'Sciences machine learning to translate it into totally unknown human languages number using a result stone dictionary open mapping on parents in higher dimensional space', 'permission required to work effectively in data loss and last update', 'fastest century research was taken with selected and hand and added to the few thousand sperber quotations', 'no returns form of communication boneta collect', 'new year Hindi a fairly and noted sperm because patients behaviour', 'non invasive species rabbits Ariel foreign Browns Paramount hydrophylla race and more', 'over 50 horsepower dominicus formula of project 20 square area is frequented by over 25 well known families in sperm whale', 'specific focus on interactions of mothers and cats', 'meaning of machine learning algorithm on language to the Burma', 'the state of group 17 pipeline translation theme audio in context to a machine learning engine was the first order by structure with 16 more than sitting with Syntax and time displacement', 'example if you find in a bank for where was talking about something yesterday', 'major finding something that is just for only been shown in humans', 'really master listening try really carefully']\n"
     ]
    }
   ],
   "source": [
    "files = [x for x in os.listdir('splitFiles')]\n",
    "\n",
    "transcript = []\n",
    "r = sr.Recognizer()\n",
    "\n",
    "for file in files:\n",
    "    temp=[]\n",
    "    audio = sr.AudioFile(f'splitFiles\\\\{file}')\n",
    "    with audio as source:\n",
    "        audio_file = r.record(source)\n",
    "        try:\n",
    "            temp = (r.recognize_google(audio_file))\n",
    "            transcript.append(temp)\n",
    "        except:\n",
    "            pass\n",
    "print(len(transcript))\n",
    "print(transcript[0:50])"
   ]
  },
  {
   "cell_type": "code",
   "execution_count": 373,
   "id": "f16ab138-03dd-42f2-ae3c-04f327efd16d",
   "metadata": {},
   "outputs": [
    {
     "output_type": "execute_result",
     "data": {
      "text/plain": [
       "'founded the Uganda Museum which became the most important cultural and linguistic Centre for the language and its community'"
      ]
     },
     "metadata": {},
     "execution_count": 373
    }
   ],
   "source": [
    "transcript[random.randint(0, len(transcript))]"
   ]
  },
  {
   "cell_type": "code",
   "execution_count": null,
   "id": "4717e2ec-b1bf-4bc7-99dd-545d99edc40b",
   "metadata": {},
   "outputs": [],
   "source": []
  }
 ],
 "metadata": {
  "kernelspec": {
   "name": "python392jvsc74a57bd061a919983dc477d17668f0590c4ef435aa61ba471860ff92cef845a6c326a65b",
   "display_name": "Python 3.9.2 64-bit"
  },
  "language_info": {
   "codemirror_mode": {
    "name": "ipython",
    "version": 3
   },
   "file_extension": ".py",
   "mimetype": "text/x-python",
   "name": "python",
   "nbconvert_exporter": "python",
   "pygments_lexer": "ipython3",
   "version": "3.9.2"
  }
 },
 "nbformat": 4,
 "nbformat_minor": 5
}