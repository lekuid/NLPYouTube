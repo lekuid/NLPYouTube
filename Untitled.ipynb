{
 "cells": [
  {
   "cell_type": "code",
   "execution_count": 4,
   "id": "371a5872-9664-41f8-9e2a-0a98a2c31903",
   "metadata": {},
   "outputs": [],
   "source": [
    "from selenium import webdriver\n",
    "from selenium.webdriver.common.keys import Keys\n",
    "import numpy as np\n",
    "import pandas as pd\n",
    "import random as rn"
   ]
  },
  {
   "cell_type": "code",
   "execution_count": 6,
   "id": "27fcee74-b1ed-4ed6-8e79-6c02aeb52868",
   "metadata": {},
   "outputs": [],
   "source": [
    "link = 'http://www.scpwiki.com/'"
   ]
  },
  {
   "cell_type": "code",
   "execution_count": 7,
   "id": "98d7b14e-02f8-456b-b1f6-d8d46ad8768b",
   "metadata": {},
   "outputs": [],
   "source": [
    "driver = webdriver.Chrome('G:\\My Drive\\Desktop\\Tools\\chromedriver89.exe')\n",
    "driver.get(link)\n"
   ]
  },
  {
   "cell_type": "code",
   "execution_count": null,
   "id": "bea1ed87-fd9c-4f93-9a77-d52f6a98096f",
   "metadata": {},
   "outputs": [],
   "source": []
  }
 ],
 "metadata": {
  "kernelspec": {
   "display_name": "Python 3",
   "language": "python",
   "name": "python3"
  },
  "language_info": {
   "codemirror_mode": {
    "name": "ipython",
    "version": 3
   },
   "file_extension": ".py",
   "mimetype": "text/x-python",
   "name": "python",
   "nbconvert_exporter": "python",
   "pygments_lexer": "ipython3",
   "version": "3.9.2"
  }
 },
 "nbformat": 4,
 "nbformat_minor": 5
}
